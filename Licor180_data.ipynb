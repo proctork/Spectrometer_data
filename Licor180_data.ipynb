{
 "cells": [
  {
   "cell_type": "markdown",
   "id": "quality-sociology",
   "metadata": {},
   "source": [
    "# Data processing from Li-Cor 180 spectrometer\n",
    "\n",
    "The objective of this script is to take information from the ESPD files (which hold readings with units of mw/m^2) and the uMOL files (which hold readings with units of uMol/m^2) and combine all data into a single csv file\n"
   ]
  },
  {
   "cell_type": "code",
   "execution_count": null,
   "id": "formal-transfer",
   "metadata": {},
   "outputs": [],
   "source": [
    "import sys\n",
    "!{sys.executable} -m pip install numpy\n",
    "!{sys.executable} -m pip install pandas\n",
    "!{sys.executable} -m pip install openpyxl\n",
    "\n",
    "import numpy as np\n",
    "import pandas as pd\n",
    "import os\n",
    "from os import walk\n"
   ]
  },
  {
   "cell_type": "markdown",
   "id": "charged-hypothetical",
   "metadata": {},
   "source": [
    "### There are a few things you need to do in order to run this program\n",
    "\n",
    "1. Create a folder to store the data. To do this, click on the folder button with a + on it. This is located in the upper left corner, to the right of the large blue + button\n",
    "2. Rename the folder \"Dataset\"\n",
    "3. Upload the data of interest by double clicking the Dataset folder and then upload by clicking the Upward arrow botton which is right next to the create folder \n",
    "4. You can set the file name of the output excel file by changing the variable \"Output_file_name\" below \n",
    "5. Run the full program by pressing the button with two right facing arrows ( along the upper ribbon )\n",
    "6.  The excel file with the name you set will be listed on the left hand side of the screen. Right click and select download"
   ]
  },
  {
   "cell_type": "code",
   "execution_count": null,
   "id": "breeding-addiction",
   "metadata": {},
   "outputs": [],
   "source": [
    "data_directory='Dataset'\n",
    "output_file_name=\"Li_Cor180_out_dataset\"\n",
    "\n",
    "import glob\n",
    "ESPD_files=[]\n",
    "uMOL_files=[]\n",
    "\n",
    "for file in glob.glob(data_directory+'/ESPD*.txt'):\n",
    "    ESPD_files.append(file)\n",
    "for file in glob.glob(data_directory+'/uMOL*.txt'):\n",
    "    uMOL_files.append(file)\n",
    "    \n",
    "if len(ESPD_files)!=len(uMOL_files):\n",
    "    print(\"Unequal number of files, check uploaded data\")\n",
    "    "
   ]
  },
  {
   "cell_type": "code",
   "execution_count": null,
   "id": "auburn-refrigerator",
   "metadata": {},
   "outputs": [],
   "source": [
    "ESPD_files.sort()\n",
    "uMOL_files.sort()"
   ]
  },
  {
   "cell_type": "code",
   "execution_count": null,
   "id": "animal-blogger",
   "metadata": {},
   "outputs": [],
   "source": [
    "test_case_E=pd.read_csv(ESPD_files[0], sep='\\t') # file used to determine shape \n",
    "test_case_u=pd.read_csv(uMOL_files[0], sep='\\t') # file used to determine shape "
   ]
  },
  {
   "cell_type": "code",
   "execution_count": null,
   "id": "signal-murray",
   "metadata": {},
   "outputs": [],
   "source": [
    "data=pd.DataFrame(np.zeros((len(test_case_E)+len(test_case_u),len(ESPD_files)+1)),dtype='object')"
   ]
  },
  {
   "cell_type": "code",
   "execution_count": null,
   "id": "forbidden-mapping",
   "metadata": {},
   "outputs": [],
   "source": [
    "data.iloc[0:len(test_case_E),0]=test_case_E.iloc[:,0]\n",
    "data.iloc[0:len(test_case_E),1]=test_case_E.iloc[:,1]\n",
    "for i in range(1,len(ESPD_files)):\n",
    "    data.iloc[0:len(test_case_E),i+1]=pd.read_csv(ESPD_files[i], sep='\\t').iloc[:,1]\n"
   ]
  },
  {
   "cell_type": "code",
   "execution_count": null,
   "id": "minute-shopping",
   "metadata": {},
   "outputs": [],
   "source": [
    "data.iloc[len(test_case_E):,0]=test_case_u.iloc[:,0].values\n",
    "data.iloc[len(test_case_E):,1]=test_case_u.iloc[:,1].values\n",
    "for i in range(1,len(uMOL_files)):\n",
    "    data.iloc[len(test_case_E):,i+1]=pd.read_csv(uMOL_files[i], sep='\\t').iloc[:,1].values"
   ]
  },
  {
   "cell_type": "code",
   "execution_count": null,
   "id": "random-collect",
   "metadata": {},
   "outputs": [],
   "source": [
    "data.iloc[2:,1:,]=data.iloc[2:,1:,].astype(float)\n",
    "data=data.drop(0)"
   ]
  },
  {
   "cell_type": "code",
   "execution_count": null,
   "id": "amber-allowance",
   "metadata": {},
   "outputs": [],
   "source": [
    "data.to_excel(output_file_name+\".xlsx\", index=False) "
   ]
  }
 ],
 "metadata": {
  "kernelspec": {
   "display_name": "Python 3",
   "language": "python",
   "name": "python3"
  },
  "language_info": {
   "codemirror_mode": {
    "name": "ipython",
    "version": 3
   },
   "file_extension": ".py",
   "mimetype": "text/x-python",
   "name": "python",
   "nbconvert_exporter": "python",
   "pygments_lexer": "ipython3",
   "version": "3.6.9"
  }
 },
 "nbformat": 4,
 "nbformat_minor": 5
}
