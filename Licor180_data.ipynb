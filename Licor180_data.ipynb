{
 "cells": [
  {
   "cell_type": "markdown",
   "id": "western-briefs",
   "metadata": {},
   "source": [
    "# Data processing from Li-Cor 180 spectrometer\n",
    "\n",
    "The objective of this script is to take information from the ESPD files (which hold readings with units of mw/m^2) and the uMOL files (which hold readings with units of uMol/m^2) and combine all data into a single csv file\n"
   ]
  },
  {
   "cell_type": "code",
   "execution_count": 19,
   "id": "specific-review",
   "metadata": {},
   "outputs": [],
   "source": [
    "import numpy as np\n",
    "import pandas as pd\n",
    "import os\n",
    "from os import walk\n"
   ]
  },
  {
   "cell_type": "code",
   "execution_count": 20,
   "id": "comic-single",
   "metadata": {},
   "outputs": [],
   "source": [
    "data_directory='Dataset_1'\n",
    "\n",
    "import glob\n",
    "ESPD_files=[]\n",
    "uMOL_files=[]\n",
    "\n",
    "for file in glob.glob(data_directory+'/ESPD*.txt'):\n",
    "    ESPD_files.append(file)\n",
    "for file in glob.glob(data_directory+'/uMOL*.txt'):\n",
    "    uMOL_files.append(file)\n",
    "    \n",
    "if len(ESPD_files)!=len(uMOL_files):\n",
    "    print(\"Unequal number of files, check uploaded data\")\n",
    "    "
   ]
  },
  {
   "cell_type": "code",
   "execution_count": 21,
   "id": "worst-reaction",
   "metadata": {},
   "outputs": [],
   "source": [
    "ESPD_files.sort()\n",
    "uMOL_files.sort()\n",
    "\n"
   ]
  },
  {
   "cell_type": "code",
   "execution_count": null,
   "id": "brilliant-bobby",
   "metadata": {},
   "outputs": [],
   "source": []
  },
  {
   "cell_type": "code",
   "execution_count": 22,
   "id": "protecting-trunk",
   "metadata": {},
   "outputs": [],
   "source": [
    "test_case_E=pd.read_csv(ESPD_files[0], sep='\\t') # file used to determine shape \n",
    "test_case_u=pd.read_csv(uMOL_files[0], sep='\\t') # file used to determine shape "
   ]
  },
  {
   "cell_type": "code",
   "execution_count": 23,
   "id": "married-indonesia",
   "metadata": {},
   "outputs": [],
   "source": [
    "data=pd.DataFrame(np.zeros((len(test_case_E)+len(test_case_u),len(ESPD_files)+1)),dtype='object')"
   ]
  },
  {
   "cell_type": "code",
   "execution_count": 24,
   "id": "unexpected-extra",
   "metadata": {},
   "outputs": [],
   "source": [
    "data.iloc[0:len(test_case_E),0]=test_case_E.iloc[:,0]\n",
    "data.iloc[0:len(test_case_E),1]=test_case_E.iloc[:,1]\n",
    "for i in range(1,len(ESPD_files)):\n",
    "    data.iloc[0:len(test_case_E),i+1]=pd.read_csv(ESPD_files[i], sep='\\t').iloc[:,1]\n"
   ]
  },
  {
   "cell_type": "code",
   "execution_count": 25,
   "id": "quarterly-semiconductor",
   "metadata": {},
   "outputs": [],
   "source": [
    "data.iloc[len(test_case_E):,0]=test_case_u.iloc[:,0].values\n",
    "data.iloc[len(test_case_E):,1]=test_case_u.iloc[:,1].values\n",
    "for i in range(1,len(uMOL_files)):\n",
    "    data.iloc[len(test_case_E):,i+1]=pd.read_csv(uMOL_files[i], sep='\\t').iloc[:,1].values\n"
   ]
  },
  {
   "cell_type": "code",
   "execution_count": 26,
   "id": "enabling-harrison",
   "metadata": {},
   "outputs": [],
   "source": [
    "data.iloc[2:,1:,]=data.iloc[2:,1:,].astype(float)"
   ]
  },
  {
   "cell_type": "code",
   "execution_count": 27,
   "id": "younger-adaptation",
   "metadata": {},
   "outputs": [],
   "source": [
    "data.to_excel(\"Li_Cor180_out_dataset_1.xlsx\", header=False, index=False) "
   ]
  },
  {
   "cell_type": "code",
   "execution_count": null,
   "id": "western-thursday",
   "metadata": {},
   "outputs": [],
   "source": []
  },
  {
   "cell_type": "code",
   "execution_count": null,
   "id": "differential-instrumentation",
   "metadata": {},
   "outputs": [],
   "source": []
  },
  {
   "cell_type": "code",
   "execution_count": null,
   "id": "loved-broadcast",
   "metadata": {},
   "outputs": [],
   "source": []
  }
 ],
 "metadata": {
  "kernelspec": {
   "display_name": "Python 3",
   "language": "python",
   "name": "python3"
  },
  "language_info": {
   "codemirror_mode": {
    "name": "ipython",
    "version": 3
   },
   "file_extension": ".py",
   "mimetype": "text/x-python",
   "name": "python",
   "nbconvert_exporter": "python",
   "pygments_lexer": "ipython3",
   "version": "3.6.9"
  }
 },
 "nbformat": 4,
 "nbformat_minor": 5
}
